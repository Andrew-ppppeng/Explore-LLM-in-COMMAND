{
 "cells": [
  {
   "cell_type": "markdown",
   "id": "0ee52f26-78f0-4fe1-b2dc-a2c9a12596e7",
   "metadata": {},
   "source": [
    "# 将Confluence里的需求文档作为外挂知识库，进行RAG"
   ]
  },
  {
   "cell_type": "markdown",
   "id": "138e4575-3b65-47c4-8cb7-e2ca22ef8aa0",
   "metadata": {},
   "source": [
    "### 加载文档\n",
    "单独建了一个Wiki空间，用ConfluenceLoader读这个空间的所有文档，没读图片\n"
   ]
  },
  {
   "cell_type": "code",
   "execution_count": 1,
   "id": "5f7d2e8d-9fb4-4469-a23c-776ac3da53de",
   "metadata": {},
   "outputs": [],
   "source": [
    "# Load docs\n",
    "from langchain.document_loaders import WebBaseLoader, ConfluenceLoader,FigmaFileLoader\n",
    "Confluence_Username = \"bo.peng3@renren-inc.com\"\n",
    "Confluence_API = \"ATATT3xFfGF0HW8cTnaXPwz-MxgCK0WiPR25Hk5TWfQF5-1I3FAUYjT6gTxVjcH9U-alJqvLVTcv66UorvNVjhN7BSv40joP7UIQweWA2fWm_14EvYASBKfvF4d23qkPa44ETg40EV1rdoeiT6skv-athCjCbXibwoR5LKfHFiid4CE-NsR_RKQ=C7E97795\"\n",
    "loader = ConfluenceLoader(\n",
    "    url=\"https://truckerpath.atlassian.net/wiki\", username=Confluence_Username, api_key=Confluence_API\n",
    ")\n",
    "documents = loader.load(space_key=\"AndrewLang\", include_attachments=False, limit=2)\n",
    "# WebContent = WebBaseLoader(\"https://lilianweng.github.io/posts/2023-06-23-agent/\").load()\n",
    "# FigmaCcontent = FigmaFileLoader(\n",
    "#     access_token='figd_Sd6fUkyGJrwuCxfjQ4BBsxQuMSf_N2npOEn1WdaY',\n",
    "#     ids='7034-12303',\n",
    "#     key='XgmWvO4rVBaCIrFqYftPjw',\n",
    "# ).load()\n",
    "\n"
   ]
  },
  {
   "cell_type": "markdown",
   "id": "deb86ad3-7264-41b3-91a7-dda96b7e525e",
   "metadata": {},
   "source": [
    "### 文档切分\n",
    "Recursive_Character_Split会按700个字符为一个chunk切分，相邻Chunk前后50个字符互相重叠，以保证不因为切割损失语义<br>\n",
    "理论上使用Markdown_Character_Split效果会更好，因为基于Markdown标题做拆分，这样能保证每个chunk的内容与主题强相关。但Langchain的Confluence Loader不支持导出原始Markdown文件，此计划搁浅\n"
   ]
  },
  {
   "cell_type": "code",
   "execution_count": 2,
   "id": "df408ca9-2ad7-420f-9d94-1dc28b244750",
   "metadata": {},
   "outputs": [],
   "source": [
    "# Split docs\n",
    "from langchain.text_splitter import RecursiveCharacterTextSplitter,MarkdownHeaderTextSplitter\n",
    "Recursive_Character_Split = RecursiveCharacterTextSplitter(chunk_size = 700, chunk_overlap = 50)\n",
    "all_splits = Recursive_Character_Split.split_documents(documents)\n",
    "# Markdown_Character_Split = MarkdownHeaderTextSplitter()\n",
    "# all_spilts = Markdown_Character_Split.split_text()"
   ]
  },
  {
   "cell_type": "markdown",
   "id": "543d4712-c41e-4b18-9bf2-57d29f5a6fc9",
   "metadata": {},
   "source": [
    "### 文本向量化及向量存储\n",
    "这里用的临时存储，每次运行都Embedding一遍。如果文档多，想长期运行，建议用向量数据库"
   ]
  },
  {
   "cell_type": "code",
   "execution_count": 3,
   "id": "81cfee9e-c1fc-468a-b849-41cb861d176e",
   "metadata": {},
   "outputs": [],
   "source": [
    "# Store splits\n",
    "from langchain.embeddings import OpenAIEmbeddings\n",
    "from langchain.vectorstores import Chroma\n",
    "vectorstore = Chroma.from_documents(documents=all_splits, embedding=OpenAIEmbeddings())"
   ]
  },
  {
   "cell_type": "markdown",
   "id": "58425338-a198-400e-8b49-1c8b1ae37515",
   "metadata": {},
   "source": [
    "### 定义RAG提示词\n",
    "提示词是从Langchain hub里取的。具体文本在下面列出来了，可以修改三引号里面的内容"
   ]
  },
  {
   "cell_type": "code",
   "execution_count": 4,
   "id": "fb8549bb-cab7-4589-b633-7a3c0d0eb565",
   "metadata": {},
   "outputs": [],
   "source": [
    "# RAG prompt\n",
    "from langchain import hub\n",
    "prompt = hub.pull(\"rlm/rag-prompt\")\n",
    "prompt.messages[0].prompt.template = '''You are an assistant for question-answering tasks. Use the following pieces of retrieved context to answer the question. If you don't know the answer, just say that you don't know. Use three sentences maximum and keep the answer concise.\n",
    "Question: {question} \n",
    "Context: {context} \n",
    "Answer:\n",
    "'''"
   ]
  },
  {
   "cell_type": "markdown",
   "id": "aea5f8d8-1e31-4504-ab5a-6e68c7caaacb",
   "metadata": {},
   "source": [
    "### 定义LLM"
   ]
  },
  {
   "cell_type": "code",
   "execution_count": 5,
   "id": "8d984ce1-2ca7-4a7d-92e9-8792853568cb",
   "metadata": {},
   "outputs": [],
   "source": [
    "# LLM\n",
    "from langchain.chains import RetrievalQA\n",
    "from langchain.chat_models import ChatOpenAI\n",
    "llm = ChatOpenAI(model_name=\"gpt-3.5-turbo\", temperature=0)"
   ]
  },
  {
   "cell_type": "code",
   "execution_count": 6,
   "id": "6268d8f1-f6c3-4e9e-b6c6-410228a62d8d",
   "metadata": {},
   "outputs": [],
   "source": [
    "# RetrievalQA\n",
    "qa_chain = RetrievalQA.from_chain_type(\n",
    "    llm,\n",
    "    retriever=vectorstore.as_retriever(),\n",
    "    chain_type_kwargs={\"prompt\": prompt},\n",
    "    return_source_documents = True\n",
    ")"
   ]
  },
  {
   "cell_type": "markdown",
   "id": "4569a698-427e-4963-baf3-b816b782d25f",
   "metadata": {},
   "source": [
    "### 定义聊天框和返回信息"
   ]
  },
  {
   "cell_type": "code",
   "execution_count": 7,
   "id": "8335aa14-9545-4fa8-a1e2-7ddcbb6cc000",
   "metadata": {},
   "outputs": [
    {
     "name": "stdout",
     "output_type": "stream",
     "text": [
      "The answer is:\n",
      "A Verified POI refers to a point of interest or facility that is already included in the database. It has a detail page and a geofence, and any changes made to the geofence will be visible to drivers. On the other hand, a Custom POI is a user-added point of interest that is not included in the database and does not have a geofence or a detail page.\n",
      "The source is:\n",
      " {'https://truckerpath.atlassian.net/wiki/spaces/AndrewLang/pages/2424340922/Customize+POI+and+last+mile'}\n"
     ]
    }
   ],
   "source": [
    "#测试性能\n",
    "question = \"What does Verified POI mean? Also what is the difference bewteen custom POI and Verified POI? \"\n",
    "result = qa_chain({\"query\": question})\n",
    "print('The answer is:\\n' + result['result'])\n",
    "\n",
    "# 告知用户LLM的回答来源于哪个知识库文档\n",
    "sources = []\n",
    "for doc in result['source_documents']:\n",
    "    sources.append(doc.metadata['source'])\n",
    "# print('The source is:\\n' + set(sources))\n",
    "print(f'The source is:\\n {set(sources)}')"
   ]
  },
  {
   "cell_type": "code",
   "execution_count": 8,
   "id": "de909393-f3f5-4ecf-9637-a7dc0163cc68",
   "metadata": {
    "scrolled": true
   },
   "outputs": [
    {
     "name": "stdout",
     "output_type": "stream",
     "text": [
      "Running on local URL:  http://127.0.0.1:7860\n",
      "Running on public URL: https://dcfa9eda4b8135759f.gradio.live\n",
      "\n",
      "This share link expires in 72 hours. For free permanent hosting and GPU upgrades, run `gradio deploy` from Terminal to deploy to Spaces (https://huggingface.co/spaces)\n"
     ]
    },
    {
     "data": {
      "text/html": [
       "<div><iframe src=\"https://dcfa9eda4b8135759f.gradio.live\" width=\"100%\" height=\"500\" allow=\"autoplay; camera; microphone; clipboard-read; clipboard-write;\" frameborder=\"0\" allowfullscreen></iframe></div>"
      ],
      "text/plain": [
       "<IPython.core.display.HTML object>"
      ]
     },
     "metadata": {},
     "output_type": "display_data"
    },
    {
     "data": {
      "text/plain": []
     },
     "execution_count": 8,
     "metadata": {},
     "output_type": "execute_result"
    }
   ],
   "source": [
    "# Gradio前端\n",
    "import gradio as gr\n",
    "def generate(message,history=''):\n",
    "    result = qa_chain({\"query\": message})\n",
    "    answer = result['result']\n",
    "    source = []\n",
    "    for doc in result['source_documents']:\n",
    "        source.append(doc.metadata['source'])\n",
    "    source_info = \"\\n\".join(set(source))\n",
    "    full_answer = answer + \"\\nSources:\\n\" + source_info\n",
    "    return full_answer\n",
    "# demo = gr.Interface(\n",
    "#     fn=generate,\n",
    "#     inputs = gr.Textbox(lines=2, placeholder = \"Ask here\"),\n",
    "#     outputs = \"text\",\n",
    "# )\n",
    "# 加短期记忆\n",
    "\n",
    "demo = gr.ChatInterface(\n",
    "    fn = generate,\n",
    "    examples = [\"Tell me the background of scan document project\",\"What's the difference between COMMAND routing and Truckerpath routing\",\"How to create a custom poi?\"]\n",
    ")\n",
    "\n",
    "demo.launch(share=True)\n"
   ]
  },
  {
   "cell_type": "markdown",
   "id": "349526c6-ad33-4acc-889a-f4f7b60ea866",
   "metadata": {},
   "source": [
    "本项目后续TODO：\n",
    "1. 导出Teams聊天记录作为数据库一部分\n",
    "2. ~做个前端chatbox页面~\n",
    "3. Evaluation\n",
    "4. 融入Agent"
   ]
  },
  {
   "cell_type": "code",
   "execution_count": null,
   "id": "75c4f19c-1082-4506-a06c-108428e42329",
   "metadata": {},
   "outputs": [],
   "source": []
  }
 ],
 "metadata": {
  "kernelspec": {
   "display_name": "Python 3 (ipykernel)",
   "language": "python",
   "name": "python3"
  },
  "language_info": {
   "codemirror_mode": {
    "name": "ipython",
    "version": 3
   },
   "file_extension": ".py",
   "mimetype": "text/x-python",
   "name": "python",
   "nbconvert_exporter": "python",
   "pygments_lexer": "ipython3",
   "version": "3.11.4"
  }
 },
 "nbformat": 4,
 "nbformat_minor": 5
}
